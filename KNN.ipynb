{
 "cells": [
  {
   "cell_type": "code",
   "execution_count": null,
   "metadata": {
    "collapsed": true
   },
   "outputs": [],
   "source": [
    "#K-近邻算法  优点：精度高，对异常值不敏感，无数据输入假定，缺点：计算复杂度高，空间复杂度高。适应数据范围：数值型和标称型\n",
    "#原理：对于测试新样本数据的特征和样本集数据对应特征比较取前k个最相似的数据。最后，选K个最相似数据中出现次数最多的分类，作为新数据的分类"
   ]
  },
  {
   "cell_type": "code",
   "execution_count": null,
   "metadata": {
    "collapsed": true
   },
   "outputs": [],
   "source": [
    "from numpy import *\n",
    "import operator\n",
    "\n",
    "def createDataSet():\n",
    "    group = array([1.0,1.1],[1.0,1.0],[0,0],[0,0.1])\n",
    "    labels = ['A','A','B','B']\n",
    "    return group,labels"
   ]
  },
  {
   "cell_type": "code",
   "execution_count": null,
   "metadata": {
    "collapsed": true
   },
   "outputs": [],
   "source": [
    "#算法：\n",
    "#计算已知类别数据集中的点与当前点之间的距离\n",
    "#按照距离递增次序排序\n",
    "#选取当前点距离最小的k个点\n",
    "#确定前K个点所在类别的出现频率\n",
    "#返回前k个点出现频率最高的类别作为当前点的预测分类"
   ]
  },
  {
   "cell_type": "code",
   "execution_count": null,
   "metadata": {
    "collapsed": true
   },
   "outputs": [],
   "source": [
    "#以下函数主要是使用欧氏距离公式,计算两个向量点之间的距离,如果数据集存在n个特征值就用相应的法则计算\n",
    "\n",
    "def classify0(inX,dataSet,labels,k): #inX用于分类的输入向量,dataSet:输入的训练样本集,labels:标签向量,k:用于选择最近邻居的数目\n",
    "    #距离计算\n",
    "    dataSetSize = dataSet.shape[0]\n",
    "    diffMat = tile(inX,(dataSetSize,1)) - dataSet\n",
    "    sqDiffMat = diffMat**2\n",
    "    sqDistances = sqDiffMat.sum(axis=1)\n",
    "    distances = sqDistances**0.5\n",
    "    sortedDistIndicies = distances.argsort()\n",
    "\n",
    "    #选择距离最小的K个点\n",
    "    classCount = {}\n",
    "    for i in range(k):\n",
    "        voteIlabel = labels[sortedDistIndicies[i]]\n",
    "        classCount[voteIlabel] = classCount.get(voteIlabel,0) + 1\n",
    "\n",
    "    #排序\n",
    "    sortedClassCount = sorted(classCount.iteritems(),\n",
    "                              key = operator.itemgetter(1),\n",
    "                              reverse = True\n",
    "                              )\n",
    "\n",
    "    return sortedClassCount[0][0]"
   ]
  }
 ],
 "metadata": {
  "kernelspec": {
   "display_name": "Python 3",
   "language": "python",
   "name": "python3"
  },
  "language_info": {
   "codemirror_mode": {
    "name": "ipython",
    "version": 3.0
   },
   "file_extension": ".py",
   "mimetype": "text/x-python",
   "name": "python",
   "nbconvert_exporter": "python",
   "pygments_lexer": "ipython3",
   "version": "3.6.1"
  }
 },
 "nbformat": 4,
 "nbformat_minor": 0
}